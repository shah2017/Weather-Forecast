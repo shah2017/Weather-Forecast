{
 "cells": [
  {
   "cell_type": "markdown",
   "metadata": {},
   "source": [
    "# Import Python and Sklearn Libraries"
   ]
  },
  {
   "cell_type": "code",
   "execution_count": 1,
   "metadata": {},
   "outputs": [],
   "source": [
    "import pandas as pd\n",
    "import numpy as np\n",
    "import matplotlib.pyplot as plt\n",
    "from sklearn.model_selection import train_test_split\n",
    "from sklearn.cluster import AgglomerativeClustering"
   ]
  },
  {
   "cell_type": "markdown",
   "metadata": {},
   "source": [
    "# Reading Data from the dataset"
   ]
  },
  {
   "cell_type": "code",
   "execution_count": 2,
   "metadata": {},
   "outputs": [],
   "source": [
    "df = pd.read_csv('weatherdata.csv')"
   ]
  },
  {
   "cell_type": "markdown",
   "metadata": {},
   "source": [
    "# Data Filtering"
   ]
  },
  {
   "cell_type": "code",
   "execution_count": 3,
   "metadata": {},
   "outputs": [],
   "source": [
    "#filtering data such as using just necessary columns\n",
    "usefuldata = ['TempAvgF','DewPointAvgF', 'HumidityAvgPercent', 'SeaLevelPressureAvgInches', 'VisibilityAvgMiles', 'WindAvgMPH', 'PrecipitationSumInches']\n",
    "data = df[usefuldata]"
   ]
  },
  {
   "cell_type": "code",
   "execution_count": 4,
   "metadata": {},
   "outputs": [
    {
     "name": "stderr",
     "output_type": "stream",
     "text": [
      "C:\\Users\\praya\\AppData\\Local\\Continuum\\anaconda3\\lib\\site-packages\\ipykernel_launcher.py:17: SettingWithCopyWarning: \n",
      "A value is trying to be set on a copy of a slice from a DataFrame.\n",
      "Try using .loc[row_indexer,col_indexer] = value instead\n",
      "\n",
      "See the caveats in the documentation: http://pandas.pydata.org/pandas-docs/stable/indexing.html#indexing-view-versus-copy\n"
     ]
    },
    {
     "data": {
      "text/html": [
       "<div>\n",
       "<style scoped>\n",
       "    .dataframe tbody tr th:only-of-type {\n",
       "        vertical-align: middle;\n",
       "    }\n",
       "\n",
       "    .dataframe tbody tr th {\n",
       "        vertical-align: top;\n",
       "    }\n",
       "\n",
       "    .dataframe thead th {\n",
       "        text-align: right;\n",
       "    }\n",
       "</style>\n",
       "<table border=\"1\" class=\"dataframe\">\n",
       "  <thead>\n",
       "    <tr style=\"text-align: right;\">\n",
       "      <th></th>\n",
       "      <th>TempAvgF</th>\n",
       "      <th>DewPointAvgF</th>\n",
       "      <th>HumidityAvgPercent</th>\n",
       "      <th>SeaLevelPressureAvgInches</th>\n",
       "      <th>VisibilityAvgMiles</th>\n",
       "      <th>WindAvgMPH</th>\n",
       "      <th>PrecipitationSumInches</th>\n",
       "      <th>PrecipitationTrace</th>\n",
       "    </tr>\n",
       "  </thead>\n",
       "  <tbody>\n",
       "    <tr>\n",
       "      <th>0</th>\n",
       "      <td>60</td>\n",
       "      <td>49</td>\n",
       "      <td>75</td>\n",
       "      <td>29.68</td>\n",
       "      <td>7</td>\n",
       "      <td>4</td>\n",
       "      <td>0.46</td>\n",
       "      <td>0</td>\n",
       "    </tr>\n",
       "    <tr>\n",
       "      <th>1</th>\n",
       "      <td>48</td>\n",
       "      <td>36</td>\n",
       "      <td>68</td>\n",
       "      <td>30.13</td>\n",
       "      <td>10</td>\n",
       "      <td>6</td>\n",
       "      <td>0.00</td>\n",
       "      <td>0</td>\n",
       "    </tr>\n",
       "    <tr>\n",
       "      <th>2</th>\n",
       "      <td>45</td>\n",
       "      <td>27</td>\n",
       "      <td>52</td>\n",
       "      <td>30.49</td>\n",
       "      <td>10</td>\n",
       "      <td>3</td>\n",
       "      <td>0.00</td>\n",
       "      <td>0</td>\n",
       "    </tr>\n",
       "    <tr>\n",
       "      <th>3</th>\n",
       "      <td>46</td>\n",
       "      <td>28</td>\n",
       "      <td>56</td>\n",
       "      <td>30.45</td>\n",
       "      <td>10</td>\n",
       "      <td>4</td>\n",
       "      <td>0.00</td>\n",
       "      <td>0</td>\n",
       "    </tr>\n",
       "    <tr>\n",
       "      <th>4</th>\n",
       "      <td>50</td>\n",
       "      <td>40</td>\n",
       "      <td>71</td>\n",
       "      <td>30.33</td>\n",
       "      <td>10</td>\n",
       "      <td>2</td>\n",
       "      <td>0.00</td>\n",
       "      <td>1</td>\n",
       "    </tr>\n",
       "    <tr>\n",
       "      <th>5</th>\n",
       "      <td>48</td>\n",
       "      <td>36</td>\n",
       "      <td>63</td>\n",
       "      <td>30.4</td>\n",
       "      <td>9</td>\n",
       "      <td>3</td>\n",
       "      <td>0.00</td>\n",
       "      <td>0</td>\n",
       "    </tr>\n",
       "    <tr>\n",
       "      <th>6</th>\n",
       "      <td>53</td>\n",
       "      <td>39</td>\n",
       "      <td>65</td>\n",
       "      <td>30.39</td>\n",
       "      <td>9</td>\n",
       "      <td>1</td>\n",
       "      <td>0.00</td>\n",
       "      <td>1</td>\n",
       "    </tr>\n",
       "    <tr>\n",
       "      <th>7</th>\n",
       "      <td>51</td>\n",
       "      <td>39</td>\n",
       "      <td>64</td>\n",
       "      <td>30.17</td>\n",
       "      <td>10</td>\n",
       "      <td>2</td>\n",
       "      <td>0.00</td>\n",
       "      <td>1</td>\n",
       "    </tr>\n",
       "    <tr>\n",
       "      <th>8</th>\n",
       "      <td>50</td>\n",
       "      <td>41</td>\n",
       "      <td>76</td>\n",
       "      <td>30.1</td>\n",
       "      <td>10</td>\n",
       "      <td>5</td>\n",
       "      <td>0.00</td>\n",
       "      <td>0</td>\n",
       "    </tr>\n",
       "    <tr>\n",
       "      <th>9</th>\n",
       "      <td>40</td>\n",
       "      <td>26</td>\n",
       "      <td>60</td>\n",
       "      <td>30.33</td>\n",
       "      <td>10</td>\n",
       "      <td>5</td>\n",
       "      <td>0.00</td>\n",
       "      <td>0</td>\n",
       "    </tr>\n",
       "  </tbody>\n",
       "</table>\n",
       "</div>"
      ],
      "text/plain": [
       "   TempAvgF DewPointAvgF HumidityAvgPercent SeaLevelPressureAvgInches  \\\n",
       "0        60           49                 75                     29.68   \n",
       "1        48           36                 68                     30.13   \n",
       "2        45           27                 52                     30.49   \n",
       "3        46           28                 56                     30.45   \n",
       "4        50           40                 71                     30.33   \n",
       "5        48           36                 63                      30.4   \n",
       "6        53           39                 65                     30.39   \n",
       "7        51           39                 64                     30.17   \n",
       "8        50           41                 76                      30.1   \n",
       "9        40           26                 60                     30.33   \n",
       "\n",
       "  VisibilityAvgMiles WindAvgMPH  PrecipitationSumInches  PrecipitationTrace  \n",
       "0                  7          4                    0.46                   0  \n",
       "1                 10          6                    0.00                   0  \n",
       "2                 10          3                    0.00                   0  \n",
       "3                 10          4                    0.00                   0  \n",
       "4                 10          2                    0.00                   1  \n",
       "5                  9          3                    0.00                   0  \n",
       "6                  9          1                    0.00                   1  \n",
       "7                 10          2                    0.00                   1  \n",
       "8                 10          5                    0.00                   0  \n",
       "9                 10          5                    0.00                   0  "
      ]
     },
     "execution_count": 4,
     "metadata": {},
     "output_type": "execute_result"
    }
   ],
   "source": [
    "#filtering data such has finding non numeric datas and rows.\n",
    "def nonnumeric(usefuldata, data):\n",
    "    r = np.zeros(data.shape[0], dtype=bool)\n",
    "    for column in usefuldata:\n",
    "        r = r | pd.to_numeric(data[column], errors='coerce').isnull()\n",
    "    return r\n",
    "def dfrowsnonnumeric(dataframe):\n",
    "    return data[nonnumeric(usefuldata, data)]\n",
    "emptyrows = dfrowsnonnumeric(data).index.values\n",
    "#data filtering such as replacing the T value\n",
    "def numberorzero(value):\n",
    "    try:\n",
    "        parsed = float(value)\n",
    "        return parsed\n",
    "    except:\n",
    "        return 0\n",
    "data['PrecipitationSumInches'] = df['PrecipitationSumInches']\n",
    "trace = nonnumeric(['PrecipitationSumInches'], data).astype(int)\n",
    "data = data.assign(PrecipitationTrace=trace.values)\n",
    "data['PrecipitationSumInches'] = data['PrecipitationSumInches'].apply(numberorzero)\n",
    "data.iloc[0:10,:]"
   ]
  },
  {
   "cell_type": "code",
   "execution_count": 5,
   "metadata": {},
   "outputs": [
    {
     "data": {
      "text/plain": [
       "array([174, 175, 176, 177, 596, 597, 598, 638, 639, 741, 742, 953],\n",
       "      dtype=int64)"
      ]
     },
     "execution_count": 5,
     "metadata": {},
     "output_type": "execute_result"
    }
   ],
   "source": [
    "emptyrows = dfrowsnonnumeric(data).index.values\n",
    "emptyrows"
   ]
  },
  {
   "cell_type": "code",
   "execution_count": 6,
   "metadata": {},
   "outputs": [],
   "source": [
    "#Data filtering such as events classification\n",
    "events = df[['Events']].replace(' ', 'None')\n",
    "differentevents = set()\n",
    "for value in events.Events.value_counts().index:\n",
    "    splitted = [x.strip() for x in value.split(',')]\n",
    "    differentevents.update(splitted)\n",
    "differentevents\n",
    "individualevents = pd.DataFrame()\n",
    "for typeofevent in differentevents:\n",
    "    allevents = events.Events.str.contains(typeofevent)\n",
    "    individualevents = pd.concat([individualevents , pd.DataFrame(data={typeofevent: allevents.values})], join='outer', axis=1)"
   ]
  },
  {
   "cell_type": "code",
   "execution_count": 7,
   "metadata": {},
   "outputs": [],
   "source": [
    "#dropping columns with empty rows.\n",
    "finaldata = data.drop(emptyrows)\n",
    "finalevents = individualevents.drop(emptyrows)"
   ]
  },
  {
   "cell_type": "code",
   "execution_count": 8,
   "metadata": {},
   "outputs": [
    {
     "name": "stdout",
     "output_type": "stream",
     "text": [
      "<class 'pandas.core.frame.DataFrame'>\n",
      "Int64Index: 1307 entries, 0 to 1318\n",
      "Data columns (total 8 columns):\n",
      "TempAvgF                     1307 non-null int64\n",
      "DewPointAvgF                 1307 non-null int64\n",
      "HumidityAvgPercent           1307 non-null int64\n",
      "SeaLevelPressureAvgInches    1307 non-null float64\n",
      "VisibilityAvgMiles           1307 non-null int64\n",
      "WindAvgMPH                   1307 non-null int64\n",
      "PrecipitationSumInches       1307 non-null float64\n",
      "PrecipitationTrace           1307 non-null int32\n",
      "dtypes: float64(2), int32(1), int64(5)\n",
      "memory usage: 86.8 KB\n"
     ]
    }
   ],
   "source": [
    "#converting the columns to numeric\n",
    "finaldata = finaldata.apply(pd.to_numeric)\n",
    "finaldata.info()"
   ]
  },
  {
   "cell_type": "markdown",
   "metadata": {},
   "source": [
    "# Preprocessing data"
   ]
  },
  {
   "cell_type": "code",
   "execution_count": 9,
   "metadata": {},
   "outputs": [],
   "source": [
    "from sklearn import preprocessing\n",
    "dvalues = finaldata.values\n",
    "min_max_scaler = preprocessing.MinMaxScaler()\n",
    "finaldata = pd.DataFrame(min_max_scaler.fit_transform(finaldata), columns=finaldata.columns, index=finaldata.index)"
   ]
  },
  {
   "cell_type": "markdown",
   "metadata": {},
   "source": [
    "# Training the Model"
   ]
  },
  {
   "cell_type": "code",
   "execution_count": 10,
   "metadata": {},
   "outputs": [],
   "source": [
    "random_state = 42 #gives out the same output as the first time making the split.\n",
    "X_train, X_test = train_test_split(finaldata, test_size=0.2, random_state=random_state)\n",
    "y_train, y_test = train_test_split(finalevents, test_size=0.2, random_state=random_state)\n",
    "numberofclusters = len(differentevents)"
   ]
  },
  {
   "cell_type": "markdown",
   "metadata": {},
   "source": [
    "# Agglomerative Clustering"
   ]
  },
  {
   "cell_type": "code",
   "execution_count": 11,
   "metadata": {},
   "outputs": [
    {
     "data": {
      "text/plain": [
       "<matplotlib.axes._subplots.AxesSubplot at 0x1c2d1ad3e10>"
      ]
     },
     "execution_count": 11,
     "metadata": {},
     "output_type": "execute_result"
    },
    {
     "data": {
      "image/png": "[encoded data removed]",
      "text/plain": [
       "<Figure size 432x288 with 1 Axes>"
      ]
     },
     "metadata": {},
     "output_type": "display_data"
    }
   ],
   "source": [
    "clustering = AgglomerativeClustering(n_clusters=numberofclusters, linkage=\"average\").fit(X_train)\n",
    "resultac = pd.DataFrame(clustering.labels_)\n",
    "resultac.iloc[:,0].value_counts().plot.line()"
   ]
  },
  {
   "cell_type": "markdown",
   "metadata": {},
   "source": [
    "# Multi-Lable Clustering"
   ]
  },
  {
   "cell_type": "code",
   "execution_count": 12,
   "metadata": {},
   "outputs": [
    {
     "data": {
      "text/plain": [
       "{0: 'None', 4: 'Rain', 1: 'Thunderstorm', 3: 'Fog', 2: 'Snow'}"
      ]
     },
     "execution_count": 12,
     "metadata": {},
     "output_type": "execute_result"
    }
   ],
   "source": [
    "eventorder = finalevents.sum().sort_values(ascending=False).index\n",
    "acorder = resultac.iloc[:,0].value_counts().index\n",
    "clusterdistribution = {}\n",
    "for i in range(numberofclusters):\n",
    "    clusterdistribution.update({acorder[i]:eventorder[i]})\n",
    "clusterdistribution"
   ]
  },
  {
   "cell_type": "markdown",
   "metadata": {},
   "source": [
    "# Calculating Clusters Centroids"
   ]
  },
  {
   "cell_type": "code",
   "execution_count": 13,
   "metadata": {},
   "outputs": [
    {
     "data": {
      "text/plain": [
       "{0: array([0.66684626, 0.71558485, 0.53737274, 0.39408867, 0.92715517,\n",
       "        0.36185998, 0.01333112, 0.        ]),\n",
       " 4: array([0.66259282, 0.7603378 , 0.62192362, 0.39995008, 0.9220297 ,\n",
       "        0.39423942, 0.        , 1.        ]),\n",
       " 1: array([0.37553879, 0.59077079, 0.81453202, 0.46479281, 0.47844828,\n",
       "        0.40125392, 0.06999337, 0.        ]),\n",
       " 3: array([0.690625  , 0.88431373, 0.85142857, 0.28403361, 0.46666667,\n",
       "        0.44242424, 0.59641026, 0.        ]),\n",
       " 2: array([0.015625  , 0.05882353, 0.3       , 0.83193277, 1.        ,\n",
       "        0.36363636, 0.        , 1.        ])}"
      ]
     },
     "execution_count": 13,
     "metadata": {},
     "output_type": "execute_result"
    }
   ],
   "source": [
    "clustercenter = {}\n",
    "for key in clusterdistribution:\n",
    "    cluster_indices = resultac.loc[resultac[0] == key].index\n",
    "    cluster_data = X_train.iloc[cluster_indices]\n",
    "    mean = cluster_data.mean(axis=0).values\n",
    "    clustercenter.update({key:mean})\n",
    "clustercenter"
   ]
  },
  {
   "cell_type": "code",
   "execution_count": 14,
   "metadata": {},
   "outputs": [
    {
     "data": {
      "text/html": [
       "<div>\n",
       "<style scoped>\n",
       "    .dataframe tbody tr th:only-of-type {\n",
       "        vertical-align: middle;\n",
       "    }\n",
       "\n",
       "    .dataframe tbody tr th {\n",
       "        vertical-align: top;\n",
       "    }\n",
       "\n",
       "    .dataframe thead th {\n",
       "        text-align: right;\n",
       "    }\n",
       "</style>\n",
       "<table border=\"1\" class=\"dataframe\">\n",
       "  <thead>\n",
       "    <tr style=\"text-align: right;\">\n",
       "      <th></th>\n",
       "      <th>None</th>\n",
       "      <th>Rain</th>\n",
       "      <th>Thunderstorm</th>\n",
       "      <th>Fog</th>\n",
       "      <th>Snow</th>\n",
       "    </tr>\n",
       "  </thead>\n",
       "  <tbody>\n",
       "    <tr>\n",
       "      <th>1304</th>\n",
       "      <td>1.076076</td>\n",
       "      <td>1.362176</td>\n",
       "      <td>1.393672</td>\n",
       "      <td>1.370068</td>\n",
       "      <td>0.410872</td>\n",
       "    </tr>\n",
       "    <tr>\n",
       "      <th>547</th>\n",
       "      <td>0.545300</td>\n",
       "      <td>0.611610</td>\n",
       "      <td>1.757403</td>\n",
       "      <td>0.511271</td>\n",
       "      <td>1.114620</td>\n",
       "    </tr>\n",
       "    <tr>\n",
       "      <th>293</th>\n",
       "      <td>0.356203</td>\n",
       "      <td>0.856249</td>\n",
       "      <td>1.684327</td>\n",
       "      <td>0.875558</td>\n",
       "      <td>1.052542</td>\n",
       "    </tr>\n",
       "    <tr>\n",
       "      <th>10</th>\n",
       "      <td>0.771528</td>\n",
       "      <td>0.883183</td>\n",
       "      <td>1.128419</td>\n",
       "      <td>1.326534</td>\n",
       "      <td>1.298398</td>\n",
       "    </tr>\n",
       "    <tr>\n",
       "      <th>147</th>\n",
       "      <td>0.388148</td>\n",
       "      <td>0.800786</td>\n",
       "      <td>1.494443</td>\n",
       "      <td>0.964510</td>\n",
       "      <td>1.075485</td>\n",
       "    </tr>\n",
       "  </tbody>\n",
       "</table>\n",
       "</div>"
      ],
      "text/plain": [
       "          None      Rain  Thunderstorm       Fog      Snow\n",
       "1304  1.076076  1.362176      1.393672  1.370068  0.410872\n",
       "547   0.545300  0.611610      1.757403  0.511271  1.114620\n",
       "293   0.356203  0.856249      1.684327  0.875558  1.052542\n",
       "10    0.771528  0.883183      1.128419  1.326534  1.298398\n",
       "147   0.388148  0.800786      1.494443  0.964510  1.075485"
      ]
     },
     "execution_count": 14,
     "metadata": {},
     "output_type": "execute_result"
    }
   ],
   "source": [
    "def distance_from_centroid_to_datapoints(dataframe):\n",
    "    clusterdist = np.zeros((dataframe.shape[0], numberofclusters))\n",
    "    for i in range(dataframe.shape[0]):\n",
    "        for key in clusterdistribution:\n",
    "            distance = np.linalg.norm(dataframe.iloc[[i]].values[0]-clustercenter[key])\n",
    "            clusterdist[i,key] = distance\n",
    "    column_names = [clusterdistribution[k] for k in clusterdistribution]\n",
    "    return pd.DataFrame(clusterdist, index=dataframe.index, columns=column_names)\n",
    "distances = distance_from_centroid_to_datapoints(X_train)\n",
    "distances.head()"
   ]
  },
  {
   "cell_type": "code",
   "execution_count": 15,
   "metadata": {},
   "outputs": [],
   "source": [
    "def eventgroup(distances_dataFrame):\n",
    "    return distances_dataFrame.apply(lambda x: x<x.min()*1.02, axis=1)\n",
    "classification = eventgroup(distances)\n",
    "X_train = classification.reindex(sorted(classification.columns), axis=1)\n",
    "y_train = y_train.reindex(sorted(y_train.columns), axis=1)\n",
    "def accuracy(X, y):    \n",
    "    comparison = X == y\n",
    "    val_counts = comparison.all(axis=1).value_counts()\n",
    "    percentageCorrect = val_counts.at[True] / X.shape[0] * 100\n",
    "    return percentageCorrect"
   ]
  },
  {
   "cell_type": "code",
   "execution_count": 16,
   "metadata": {},
   "outputs": [
    {
     "data": {
      "text/plain": [
       "65.07177033492823"
      ]
     },
     "execution_count": 16,
     "metadata": {},
     "output_type": "execute_result"
    }
   ],
   "source": [
    "accuracy(X_train, y_train)"
   ]
  },
  {
   "cell_type": "markdown",
   "metadata": {},
   "source": [
    "# Weather Forecast Events using Cluster Analysis"
   ]
  },
  {
   "cell_type": "code",
   "execution_count": 17,
   "metadata": {},
   "outputs": [
    {
     "data": {
      "text/plain": [
       "<matplotlib.axes._subplots.AxesSubplot at 0x1c2d1fff240>"
      ]
     },
     "execution_count": 17,
     "metadata": {},
     "output_type": "execute_result"
    },
    {
     "data": {
      "image/png": "[encoded data removed]",
      "text/plain": [
       "<Figure size 1080x360 with 2 Axes>"
      ]
     },
     "metadata": {},
     "output_type": "display_data"
    }
   ],
   "source": [
    "distancesDf = distance_from_centroid_to_datapoints(X_test)\n",
    "classification = eventgroup(distancesDf)\n",
    "X_test = classification.reindex(sorted(classification.columns), axis=1)\n",
    "y_test = y_test.reindex(sorted(y_train.columns), axis=1)\n",
    "fig, ax = plt.subplots(1, 2, figsize=(15, 5))\n",
    "y_test.sum().plot.line(ax=ax[0], title=\"Original\")\n",
    "X_test.sum().plot.line(ax=ax[1], title=\"Forecast\")"
   ]
  },
  {
   "cell_type": "code",
   "execution_count": 18,
   "metadata": {},
   "outputs": [
    {
     "data": {
      "text/plain": [
       "69.46564885496184"
      ]
     },
     "execution_count": 18,
     "metadata": {},
     "output_type": "execute_result"
    }
   ],
   "source": [
    "accuracy(X_test, y_test)"
   ]
  },
  {
   "cell_type": "code",
   "execution_count": null,
   "metadata": {},
   "outputs": [],
   "source": []
  }
 ],
 "metadata": {
  "kernelspec": {
   "display_name": "Python 3",
   "language": "python",
   "name": "python3"
  },
  "language_info": {
   "codemirror_mode": {
    "name": "ipython",
    "version": 3
   },
   "file_extension": ".py",
   "mimetype": "text/x-python",
   "name": "python",
   "nbconvert_exporter": "python",
   "pygments_lexer": "ipython3",
   "version": "3.6.5"
  }
 },
 "nbformat": 4,
 "nbformat_minor": 2
}
